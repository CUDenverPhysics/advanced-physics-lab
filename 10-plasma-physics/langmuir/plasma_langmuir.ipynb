{
 "cells": [
  {
   "cell_type": "markdown",
   "metadata": {},
   "source": [
    "![alt text](logo.png \"Logo\")\n",
    "\n",
    "<center> <h1> Advanced Physics Lab 3711/3721 </h1> </center>\n",
    "<center> <h1> Plasma Physics - Langmuir Probe </h1> </center>\n",
    "\n",
    "\n",
    "## Notebook Overview\n",
    "\n",
    "Meet Jupyter Notebook! The Jupyter Notebook is a web application that allows you to create and share documents that contain live code, equations, visualizations and explanatory text. Uses include: data cleaning and transformation, numerical simulation, statistical modeling, machine learning and much more. It is an open source, interactive data science and scientific computing platform across over 40 programming languages.\n",
    "\n",
    "\n",
    "## Let's get to it! Experimental Setup\n",
    "\n",
    "Below is a digital photograph of the current experimental setup is NC 3107A. If what you find in the lab look different from the image, please contact an instructor or the lab coordinator before proceding.\n",
    "\n",
    "<b>WARNING:</b> We will be dealing with large potential differences (<b>HIGH-VOLTAGE!</b>) in this lab. Please use caution and be aware of what you are touching. Familiarize yourself with the equipment before turning anything on.\n",
    "\n",
    "![alt text](overview.jpg \"Experimental Setup\")\n",
    "\n",
    "We first want to configure the Digital Multimeters (DMM). We want to measure both DC Current, and DC Voltage. Convince yourself what each DMM is set-up to measure, then turn them on. <i><b>Note:</b> The default Current setting is for AC Current, not DC. Be sure to change the function by pressing the yellow function button. </i>\n",
    "\n",
    "You should have something like this:\n",
    "\n",
    "![alt text](dmm.jpg \"DMM Configuration\")\n",
    "\n",
    "Now, it's time to create a plasma! <b>Before</b> turning on the <b>High-Voltage</b> power supply, make sure that both the black (coarse) and red (fine) knobs, as seen below, are turned completely counter-clockwise. After verifying this, flip the \"POWER ON\" switch up.\n",
    "\n",
    "![alt text](high_voltage.jpg \"High Voltage\")\n",
    "\n",
    "Now we will (slowly) increase the potential between the Cathode and Anode inside the vacuum tube. You should be monitoring three things while increasing the potential:\n",
    "\n",
    "+ DMM Current Reading\n",
    "+ DMM Voltage Reading\n",
    "+ <b>THE PLASMA THAT YOU ARE MAKING!!!</b>\n",
    "\n",
    "You should expect to see a current when the potential reaches about 90 V (and see the plasma!). <b>Slowly</b> increase the potential (using the black knob) until the curent reaches about 28 mA. Then switch to the red knob and dial it up until the current is 30 mA. <b>Do not exceed 30 mA.</b>\n",
    "\n",
    "Your DMM's should give similar values as pictured below:\n",
    "\n",
    "![alt text](stop_here.jpg \"Stop Here\")\n",
    "\n",
    "Look at the vacuum tube! The plasma should be nice and uniform, and not flickering. Something like this:\n",
    "\n",
    "![alt text](plasma.jpg \"Plasma\")\n",
    "\n",
    "Now, we get to sweep the voltage on the Langmuir Probe in the tube and measure current on the Keithley 6487 Picoammeter/Voltage Source!"
   ]
  },
  {
   "cell_type": "markdown",
   "metadata": {},
   "source": [
    "## Instrument Control and Data Acquisition\n",
    "\n",
    "This particular notebook is written to communicate with the Keithley 6487 Picoammeter/Voltage Source. The programming language used in this Notebook is Python. The best way to use this section is a top-down design. Each cell has been designed to be executed one at a time, but many of the cells require the ones above it to have been executed. If you have not used a Jupyter notebook, please speak with Kris Bunker before running it for a quick overview of it's functionality.\n",
    "\n",
    "The first thing we need to do is import some Python libraries to communicate with the Keithley, and to manipulate and display the acquired data. Execute the cell below by clicking on the cell and press \"Shift+Enter\" (alternatively you could click on the cell and then click the play button on the top banner). <i><b>Note:</b> On the left of each \"code\" cell, you will see \"In [ ]:\". After you execute a cell, this will change to \"In [ # ]:\", where # will be an integer that represents the order you executed the cells in a particular session (beginning with 1 and monotonically inscreasing). </i>"
   ]
  },
  {
   "cell_type": "code",
   "execution_count": null,
   "metadata": {
    "collapsed": false
   },
   "outputs": [],
   "source": [
    "import numpy as np # This is the fundamental package for scientific computing with Python.\n",
    "import matplotlib.pyplot as plt # A Python plotting library.\n",
    "import visa # This is the pyVISA library - it allows us to communicate with instruments (like the Keithley 6487!).\n",
    "import time # This library allows us to keep track of time\n",
    "from bokeh.plotting import figure, output_notebook, show # Plotting library"
   ]
  },
  {
   "cell_type": "markdown",
   "metadata": {},
   "source": [
    "Now we will open communication with the Keithley. It is located at the \"COM3\" serial port. We need to also define how the device is configured in the RS-232 communications protocol. In general, you need to specify:\n",
    "\n",
    "+ Baud Rate\n",
    "+ Flow Control\n",
    "+ Terminator Characters\n",
    "+ Parity\n",
    "+ Data Bits\n",
    "\n",
    "For our case, the Keithley is set to all defaults except the Terminator. The settings for the the Keithley are:    \n",
    "\n",
    "+ Baud Rate: 9600\n",
    "+ Flow Control: None\n",
    "+ Terminator Characters: Carriage Return\n",
    "+ Parity: None\n",
    "+ Data Bits: 8\n",
    "\n",
    "Now, run the cell below."
   ]
  },
  {
   "cell_type": "code",
   "execution_count": null,
   "metadata": {
    "collapsed": true
   },
   "outputs": [],
   "source": [
    "# Setting up a resource manager to communicate with the Keithley, using the imported pyVISA library.\n",
    "resource_manager = visa.ResourceManager() \n",
    "\n",
    "# Opening the instrument - note we specify the read and write termination\n",
    "keithley = resource_manager.open_resource(\"COM3\", read_termination = '\\r', write_termination = '\\r') "
   ]
  },
  {
   "cell_type": "markdown",
   "metadata": {},
   "source": [
    "Next, we define our scanning limits and other variables. Some notes about these parameters:\n",
    "\n",
    "+ v_1 - This is the starting voltage. -30 V is a good starting point. Don't go any lower.\n",
    "+ v_2 - This is the ending voltage. Do not exceed 9 V.\n",
    "+ v_d - This is the voltage step. 1 V is a good starting point. Decreasing to 0.1 V for subsequent data runs should produce good results.\n",
    "+ t_d - This is our time between voltage steps. You can keep this at 1 second."
   ]
  },
  {
   "cell_type": "code",
   "execution_count": null,
   "metadata": {
    "collapsed": true
   },
   "outputs": [],
   "source": [
    "v_1 = -30 # Starting Voltage\n",
    "v_2 = 9  # Ending Voltage\n",
    "v_d = 1 # Voltage Step\n",
    "t_d = 1 # Time (in seconds) between voltage ramps\n",
    "\n",
    "N_steps = (v_2 - v_1)/v_d # Number of steps\n",
    "vs = np.arange(v_1, v_2 +1, v_d) # generate an array of Voltage values"
   ]
  },
  {
   "cell_type": "markdown",
   "metadata": {},
   "source": [
    "Now let's communicate with the Keithley 6487 to setup for the desired data acquisition."
   ]
  },
  {
   "cell_type": "code",
   "execution_count": null,
   "metadata": {
    "collapsed": false
   },
   "outputs": [],
   "source": [
    "keithley.write('*RST') # Return 6487 to defaults.\n",
    "keithley.write('FORM:ELEM READ,VSO') # Setting up Keithley to send the Current and Voltage.\n",
    "keithley.write('SYST:ZCH ON') # Enable zero check.\n",
    "keithley.write('RANG 2e-3') # Select the 2mA range.\n",
    "keithley.write('INIT') # Trigger reading to be used as zero correction.\n",
    "keithley.write('SYST:ZCOR:ACQ') # Use last reading taken as zero correct value.\n",
    "keithley.write('SYST:ZCOR ON') # Perform zero correction.\n",
    "keithley.write('RANG:AUTO ON') # Enable auto current range.\n",
    "keithley.write('SOUR:VOLT:RANG 30') # Select 30V source range.\n",
    "keithley.write('SOUR:VOLT 0') # Set voltage source output to 0V.\n",
    "keithley.write('SOUR:VOLT:ILIM 2.5e-3') # Set current limit to 2.5mA.\n",
    "keithley.write('SYST:ZCH OFF') # Disable zero check."
   ]
  },
  {
   "cell_type": "markdown",
   "metadata": {},
   "source": [
    "Alright. Now we should have the Keithley in a state where we can sweep the voltages. I would encourage you to read through the cell below and try to interpret what we are doing. Okay - let's go!"
   ]
  },
  {
   "cell_type": "code",
   "execution_count": null,
   "metadata": {
    "collapsed": false,
    "scrolled": false
   },
   "outputs": [],
   "source": [
    "# This cell is designed to be run multiple times as to collect multiple data sets. So, we will delete the previous data\n",
    "# if it exists. So, if you want to keep your data, save it in a cell below!\n",
    "if 'data' in locals(): \n",
    "    del data\n",
    "\n",
    "keithley.write('SOUR:VOLT:STAT ON') # Put voltage source in operate.\n",
    "\n",
    "data = np.empty((N_steps, 2)) # Create an empty arraythat we will fill with data below\n",
    "\n",
    "i = 0 # Creating an index variable for storing data\n",
    "\n",
    "# Looping through the voltages we defined a few cells back\n",
    "for v in vs:\n",
    "            keithley.write('SOUR:VOLT ' + str(v)) # Telling the Keithley a voltage to set\n",
    "            time.sleep(t_d) # Wait for the time that we specified\n",
    "            a = keithley.ask('READ?') # Reading the Current and Voltage and storing it\n",
    "            b = a.split(\",\") # Parsing the data sent from the Keithley - it sends us a 'string'\n",
    "            data[i,1] = new_y = float(b[0]) # Converting the 'string' to a 'float'\n",
    "            data[i,0] = float(b[1]) # Converting the 'string' to a 'float'\n",
    "                      \n",
    "            i = i + 1 # increase our index variable before running through the loop again\n",
    "                    \n",
    "keithley.write('SOUR:VOLT 0')        \n",
    "keithley.write('SOUR:VOLT:STAT OFF')"
   ]
  },
  {
   "cell_type": "markdown",
   "metadata": {},
   "source": [
    "### If you received an error after running the cell above, and the blue \"VOLTAGE SOURCE OPERATE\" light is illuminated on the Keithley, execute the cell below. Otherwise ignore."
   ]
  },
  {
   "cell_type": "code",
   "execution_count": null,
   "metadata": {
    "collapsed": false
   },
   "outputs": [],
   "source": [
    "keithley.write('SOUR:VOLT 0')        \n",
    "keithley.write('SOUR:VOLT:STAT OFF')"
   ]
  },
  {
   "cell_type": "markdown",
   "metadata": {},
   "source": [
    "When you are completely finished with your data collection, please close out the data acquisition session by executing the cell below. You may not wish to do this the first time you arrive to this point. Move on to the next section before determining if you are finished."
   ]
  },
  {
   "cell_type": "code",
   "execution_count": null,
   "metadata": {
    "collapsed": true
   },
   "outputs": [],
   "source": [
    "keithley.close()"
   ]
  },
  {
   "cell_type": "markdown",
   "metadata": {},
   "source": [
    "## Data Plotting\n",
    "\n",
    "Now that we have acquired the data, let's have a look at the result! The cell below will create an interactive plot of the IV curve."
   ]
  },
  {
   "cell_type": "code",
   "execution_count": null,
   "metadata": {
    "collapsed": false,
    "scrolled": false
   },
   "outputs": [],
   "source": [
    "# Plot the data\n",
    "\n",
    "# Specifying that we want the plot to be displayed within the notebook\n",
    "output_notebook(url=None, docname=None, session=None, name=None, resources=None, verbose=False, hide_banner=True)\n",
    "\n",
    "# create a new plot with a title and axis labels\n",
    "p = figure(title=\"Langmuir IV Curve\", x_axis_label='Voltage (V)', y_axis_label='Current (A)')\n",
    "\n",
    "# specify the data to plot and define the line type - here we will use a circle for the data points\n",
    "p.circle(data[:,0], data[:,1], fill_color=\"white\", size=8)\n",
    "\n",
    "# show the results\n",
    "show(p)"
   ]
  },
  {
   "cell_type": "markdown",
   "metadata": {},
   "source": [
    "## Saving your data\n",
    "\n",
    "Specify the filename for saving your data below. At this time the following cell WILL OVERWRITE any file that has the \n",
    "same name, so be sure to change the \"filename\" before executing this cell if this is not desired."
   ]
  },
  {
   "cell_type": "code",
   "execution_count": null,
   "metadata": {
    "collapsed": false
   },
   "outputs": [],
   "source": [
    "np.savetxt('filename.txt', data,\n",
    "                      fmt='%.18e',\n",
    "                      delimiter=',',\n",
    "                      newline='\\n',\n",
    "                      header='Voltage (V) Current (A)',\n",
    "                      footer='',\n",
    "                      comments='# ')"
   ]
  }
 ],
 "metadata": {
  "kernelspec": {
   "display_name": "Python 2",
   "language": "python",
   "name": "python2"
  },
  "language_info": {
   "codemirror_mode": {
    "name": "ipython",
    "version": 2
   },
   "file_extension": ".py",
   "mimetype": "text/x-python",
   "name": "python",
   "nbconvert_exporter": "python",
   "pygments_lexer": "ipython2",
   "version": "2.7.10"
  }
 },
 "nbformat": 4,
 "nbformat_minor": 0
}
