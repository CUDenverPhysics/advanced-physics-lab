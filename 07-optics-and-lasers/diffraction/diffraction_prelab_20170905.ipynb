{
 "cells": [
  {
   "cell_type": "markdown",
   "metadata": {},
   "source": [
    "![alt text](logo.png)\n",
    "\n",
    "<center> <h1> Advanced Physics Lab 3711/3721 </h1> </center>\n",
    "<center> <h1> Optics and Lasers - Diffraction: Prelab</h1> </center>\n",
    "<center> <h3> 05 September 2017 </h3> </center>\n",
    "\n",
    "## Introduction\n",
    "\n",
    "This lab introduces one of the first experiments that provided conclusive evidence that light had wave-like properties. When light passes through two narrow slits (that is the slit width is << the wavelength), it is diffracted. The result is two point-sources of waves, as pictured below:\n",
    "\n",
    "<img src=\"point_sources.png\" alt=\"Drawing\" style=\"width: 350px;\"/>\n",
    "\n",
    "We will model the following physical problem. Given two coherent sources, like two slits in a screen illuminated by a laser, what does the pattern look like on a screen some distance away? We will neglect diffraction (which is taking into account the actual width of each slit), but focus on the interference pattern on the screen. The interference arises because there is a path-length difference between the between the two sources. The path length difference makes a phase difference that causes constructive or destructive interference. The constructive and destructive interference alternates as you move up and down the screen.\n",
    "\n",
    "<img src=\"superposition.png\" alt=\"Drawing\" style=\"width: 600px;\"/>\n",
    "\n",
    "At the screen, the two waves are in superposition resulting in a wave given by equation:\n",
    "\n",
    "$$y=cos(2\\pi ft+\\phi_1)+cos(2\\pi ft+\\phi_2))$$\n",
    "\n",
    "Because the waves each travel a different distance, when they arrive at any one point on the screen the two waves are at different points in their cycles. We can model this by including a “phase shift” term (φ1 and φ2).  We can make this term “count” the full number of wavelengths in the path, and consider the remaining “partial” wavelength by multiplying the ratio of the path distance and wavelength by $2\\pi$.  That is: \n",
    "\n",
    "$$y=cos\\left (2\\pi ft+\\frac{2\\pi d_1}{\\lambda}\\right)+cos\\left (2\\pi ft+\\frac{2\\pi d_2}{\\lambda}\\right )$$\n",
    "\n",
    "Now using the trigometric identity:\n",
    "\n",
    "$$cos(A)+cos(B)=2cos\\left (\\frac{A-B}{2}\\right )cos\\left (\\frac{A+B}{2}\\right)$$\n",
    "\n",
    "we can simplify the resultant wave equation in a more convenient form:\n",
    "\n",
    "$$y=2cos\\left (\\frac{\\pi (d_1-d_2)}{\\lambda}\\right )cos\\left (2\\pi ft+\\frac{\\pi (d_1+d_2)}{\\lambda}\\right )$$\n",
    "\n",
    "The maximum amplitude, A of this resultant wave at any point on the screen is given by:\n",
    "\n",
    "$$A=2cos\\left (\\frac{\\pi (d_1-d_2)}{\\lambda}\\right )$$\n",
    "\n",
    "Light sensors (including your eye and CCDs) measure the brightness, or intensity of the average wave, which is the square of the amplitude.\n",
    "\n",
    "$$I=A^2$$\n",
    "\n",
    "That means the average intensity of the light at anyone point point on the screen can be written as:\n",
    "\n",
    "$$I=4cos^2\\left (\\frac{\\pi (d_1-d_2)}{\\lambda}\\right )$$"
   ]
  },
  {
   "cell_type": "markdown",
   "metadata": {
    "collapsed": true
   },
   "source": [
    "## Model Pseudocode\n",
    "\n",
    "Using the diagram and pseudocode algorithm below, write a Python program that models the superposition of two coherent waves sources (emit the same wave at the same phase) propagating from two point sources as they arrive at a screen.\n",
    "\n",
    "<img src=\"model_geometry.png\" alt=\"Drawing\" style=\"width: 450px;\"/>\n",
    "\n",
    "1. Import necessary libraries (at least numpy and matplotlib)\n",
    "2. Define variables for:\n",
    "    * the distance between the slits (start with 100 μm)\n",
    "    * the distance from the slits to the screen (start with 25 cm)\n",
    "    * the wavelength of light being used λ (start with 625 nm)\n",
    "    * the screen length (start with 20 mm)\n",
    "    * the step size along the screen (start with 1 μm)\n",
    "3. Generate an array with y coordinates symmetric about the x-axis, the length of the screen, and with a distance of the \"step size\" in between (this would give a 20001 row array if using the values above: see the numpy.arrange function)\n",
    "4. Initialize two arrays, d1 and d2, with the same dimensions as the array in step 3 (see numpy.zeros function)\n",
    "5. Start a loop that steps along the screen. Within this loop:\n",
    "    * You need to increment two variables: one is the index variable (i) and the other is the parameter variable (y) - look into the enumerate Python function \n",
    "    * Calculate the distance from each slit to the current point (y) on the screen\n",
    "    * This should be symmetric about the x-axis (ie. -10mm to 10mm). Make sure to store your calculations in the appropriate “slot” (index) in an array\n",
    "    * Move to the next point, and repeat\n",
    "6. Find the net amplitude (this is the superposition – see the introduction)\n",
    "7. Square the net amplitude to get the intensity\n",
    "8. Plot the Intensity v.s. Screen Position (see matplotlib.plot function - also be sure to include '%matplotlib inline' for the plot to appear within the notebook window\n",
    "\n"
   ]
  },
  {
   "cell_type": "markdown",
   "metadata": {},
   "source": [
    "Here is an example of what your plot should look like:\n",
    "\n",
    "<img src=\"example_plot.png\" alt=\"Drawing\" />"
   ]
  }
 ],
 "metadata": {
  "anaconda-cloud": {},
  "kernelspec": {
   "display_name": "Python 3",
   "language": "python",
   "name": "python3"
  },
  "language_info": {
   "codemirror_mode": {
    "name": "ipython",
    "version": 3
   },
   "file_extension": ".py",
   "mimetype": "text/x-python",
   "name": "python",
   "nbconvert_exporter": "python",
   "pygments_lexer": "ipython3",
   "version": "3.6.0"
  }
 },
 "nbformat": 4,
 "nbformat_minor": 1
}
